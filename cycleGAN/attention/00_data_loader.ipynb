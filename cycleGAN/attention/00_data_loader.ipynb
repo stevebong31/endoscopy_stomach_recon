{
 "metadata": {
  "language_info": {
   "codemirror_mode": {
    "name": "ipython",
    "version": 3
   },
   "file_extension": ".py",
   "mimetype": "text/x-python",
   "name": "python",
   "nbconvert_exporter": "python",
   "pygments_lexer": "ipython3",
   "version": "3.8.6"
  },
  "orig_nbformat": 2,
  "kernelspec": {
   "name": "python386jvsc74a57bd061bef0ac4990fcda027757516edd758b6cad8af84bc6cd438b47af660f990c96",
   "display_name": "Python 3.8.6 64-bit ('torch': conda)"
  },
  "metadata": {
   "interpreter": {
    "hash": "c6993ba8a3fd8114df041e36996b1c1fd361a4b09ce5d58bf9b5e95b488c6c30"
   }
  }
 },
 "nbformat": 4,
 "nbformat_minor": 2,
 "cells": [
  {
   "cell_type": "code",
   "execution_count": 2,
   "metadata": {},
   "outputs": [],
   "source": [
    "import cv2, os, glob, random, tqdm\n",
    "import numpy as np \n",
    "import matplotlib.pyplot as plt\n",
    "import imgaug.augmenters as iaa\n",
    "import imgaug as ia"
   ]
  },
  {
   "cell_type": "code",
   "execution_count": 3,
   "metadata": {},
   "outputs": [],
   "source": [
    "ramdom_seed = 5198\n",
    "np.random.seed(ramdom_seed)\n",
    "random.seed(ramdom_seed)\n",
    "os.environ['PYTHONHASHSEED'] = str(ramdom_seed)"
   ]
  },
  {
   "cell_type": "code",
   "execution_count": 27,
   "metadata": {},
   "outputs": [],
   "source": [
    "def load_data(path):\n",
    "    all_data = []\n",
    "    data_list = glob.glob(path + '/*.png')\n",
    "    for tmp in tqdm.tqdm(data_list): \n",
    "        img = cv2.cvtColor(cv2.imread(tmp),cv2.COLOR_BGR2RGB)\n",
    "        all_data.append(img)\n",
    "    all_data = np.array(all_data)\n",
    "    return all_data"
   ]
  },
  {
   "cell_type": "code",
   "execution_count": 36,
   "metadata": {},
   "outputs": [],
   "source": [
    "def image_aug_batch(img):\n",
    "    #\n",
    "    seq = iaa.Sequential([\n",
    "    iaa.MultiplyAndAddToBrightness(mul=(0.9, 1.1), add=(-10, 10)),\n",
    "    iaa.MotionBlur(k=3, angle=[-45, 45]),\n",
    "    iaa.Fliplr(0.5),\n",
    "    iaa.Flipud(0.5),\n",
    "    iaa.Affine(\n",
    "        translate_px={\"x\": 10, \"y\": 10},\n",
    "        scale=(0.90, 1.1),\n",
    "        rotate=(-10, 10), mode='edge')])\n",
    "    images_aug = seq(images = img)\n",
    "    return images_aug"
   ]
  },
  {
   "cell_type": "code",
   "execution_count": 63,
   "metadata": {},
   "outputs": [],
   "source": [
    "def data_loader(data1, data2, batch, aug = True):\n",
    "    while 1:\n",
    "        data1_batch = data1[np.random.choice(np.arange(0,len(data1)), batch)]\n",
    "        data2_batch = data2[np.random.choice(np.arange(0,len(data2)), batch)]\n",
    "        if aug == True:\n",
    "            data1_aug = image_aug_batch(data1_batch)/127.5 - 1. \n",
    "            data2_aug = image_aug_batch(data2_batch)/127.5 - 1.\n",
    "        else:\n",
    "            data1_aug = data1_batch\n",
    "            data2_aug = data1_batch\n",
    "        yield data1_aug, data2_aug"
   ]
  },
  {
   "source": [],
   "cell_type": "markdown",
   "metadata": {}
  }
 ]
}