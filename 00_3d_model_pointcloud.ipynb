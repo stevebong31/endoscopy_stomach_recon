{
 "cells": [
  {
   "cell_type": "markdown",
   "metadata": {},
   "source": [
    "## import"
   ]
  },
  {
   "cell_type": "code",
   "execution_count": 1,
   "metadata": {},
   "outputs": [],
   "source": [
    "import os, glob, copy, tqdm\n",
    "import numpy as np\n",
    "import open3d as o3d\n",
    "import matplotlib as mpl\n",
    "import matplotlib.pyplot as plt\n",
    "import pandas as pd\n",
    "from stl import mesh\n",
    "from open3d import JVisualizer\n",
    "from mpl_toolkits.mplot3d import Axes3D  # noqa: F401 unused import"
   ]
  },
  {
   "cell_type": "markdown",
   "metadata": {},
   "source": [
    "## Data path"
   ]
  },
  {
   "cell_type": "code",
   "execution_count": 2,
   "metadata": {},
   "outputs": [],
   "source": [
    "path = r'D:\\DATA\\ENDOSCOPY\\model_stomach\\sub19_inner.stl'"
   ]
  },
  {
   "cell_type": "markdown",
   "metadata": {},
   "source": [
    "## Test"
   ]
  },
  {
   "cell_type": "code",
   "execution_count": 3,
   "metadata": {},
   "outputs": [],
   "source": [
    "# cut top bottom\n",
    "mesh_stl = mesh.Mesh.from_file(path)\n",
    "xyz_numpy = mesh_stl.vectors\n",
    "your_mesh = np.mean(xyz_numpy, axis = 1)\n",
    "pcd_load = o3d.geometry.PointCloud()\n",
    "pcd_load.points = o3d.utility.Vector3dVector(your_mesh)\n",
    "o3d.visualization.draw_geometries([pcd_load])"
   ]
  },
  {
   "cell_type": "code",
   "execution_count": 8,
   "metadata": {},
   "outputs": [
    {
     "output_type": "execute_result",
     "data": {
      "text/plain": [
       "(142356, 3)"
      ]
     },
     "metadata": {},
     "execution_count": 8
    }
   ],
   "source": [
    "your_mesh.shape"
   ]
  },
  {
   "cell_type": "code",
   "execution_count": 4,
   "metadata": {},
   "outputs": [],
   "source": [
    "# cut top bottom random sampling 10000\n",
    "mesh_stl = mesh.Mesh.from_file(path)\n",
    "xyz_numpy = mesh_stl.vectors\n",
    "your_mesh = np.mean(xyz_numpy, axis = 1)\n",
    "idx = np.random.randint(len(your_mesh), size=10000)\n",
    "zero_xyz_sorted_rand = your_mesh[idx, :]\n",
    "pcd_load = o3d.geometry.PointCloud()\n",
    "pcd_load.points = o3d.utility.Vector3dVector(zero_xyz_sorted_rand)\n",
    "o3d.visualization.draw_geometries([pcd_load])"
   ]
  },
  {
   "cell_type": "code",
   "execution_count": 75,
   "metadata": {},
   "outputs": [
    {
     "name": "stderr",
     "output_type": "stream",
     "text": [
      "100%|████████████████████████████████████████████████████████████████████████████████| 697/697 [05:24<00:00,  2.15it/s]\n"
     ]
    }
   ],
   "source": [
    "xyz_sum = []\n",
    "for i in tqdm.tqdm(range(len(su_data_list))):\n",
    "    su_mesh = mesh.Mesh.from_file(su_data_list[i])\n",
    "    sd_mesh = mesh.Mesh.from_file(sd_data_list[i])\n",
    "    sum_mesh = mesh.Mesh(np.concatenate([su_mesh.data.copy(), sd_mesh.data.copy(),]))\n",
    "    xyz_numpy = sum_mesh.vectors\n",
    "    your_mesh = np.mean(xyz_numpy, axis = 1)\n",
    "\n",
    "    zero_xyz = your_mesh\n",
    "    zero_xyz.view('f4, f4, f4').sort(order=['f1'], axis=0)\n",
    "                                     \n",
    "    y_lenth_half2 = 15\n",
    "                                     \n",
    "    test = np.clip(zero_xyz[:,1] , - y_lenth_half2, y_lenth_half2)\n",
    "    diff_zero = np.where(test[1:] - test[:-1] > 0)\n",
    "    zero_xyz_sorted = zero_xyz[int(diff_zero[0][0]):int(diff_zero[0][-1]), :]\n",
    "    idx = np.random.randint(len(zero_xyz_sorted), size=10000)\n",
    "    zero_xyz_sorted_rand = zero_xyz_sorted[idx, :]\n",
    "    xyz_sum.append(zero_xyz_sorted_rand)\n",
    "# np.save(os.path.join(data_save_path, f'input_data.npy'), np.array(xyz_sum))"
   ]
  },
  {
   "cell_type": "code",
   "execution_count": 76,
   "metadata": {},
   "outputs": [],
   "source": [
    "np.save('D:/DATA/dental_dataset/numpy/0910_input.npy', np.array(xyz_sum))"
   ]
  },
  {
   "cell_type": "code",
   "execution_count": null,
   "metadata": {},
   "outputs": [],
   "source": [
    "np.save('D:/DATA/dental_dataset/numpy/DeID/processing_data/data_npy/input_data.npy', np.array(xyz_sum))"
   ]
  },
  {
   "cell_type": "code",
   "execution_count": null,
   "metadata": {},
   "outputs": [],
   "source": [
    "xyz_sum = np.array(xyz_sum)"
   ]
  },
  {
   "cell_type": "code",
   "execution_count": null,
   "metadata": {},
   "outputs": [],
   "source": [
    "np.save('D:/DATA/data_KNU_2020-08-14_DeID/xyz_numpy.npy')"
   ]
  },
  {
   "cell_type": "code",
   "execution_count": null,
   "metadata": {},
   "outputs": [],
   "source": [
    "save_path = ('C:/Users/HW-Steve/Desktop/DATA/dental_stl_data/random/pre/')\n",
    "\n",
    "for data_path in pre_data_list:\n",
    "    pcd_load = o3d.io.read_point_cloud(data_path)\n",
    "    xyz_load = np.asarray(pcd_load.points)\n",
    "    idx = np.random.randint(len(xyz_load), size=10000)\n",
    "    down_xyz = xyz_load[idx,:]\n",
    "    downpcd = pcd_load\n",
    "    downpcd.points = o3d.utility.Vector3dVector(xyz_load[idx,:])\n",
    "    o3d.io.write_point_cloud(os.path.basename(data_path), downpcd)"
   ]
  },
  {
   "cell_type": "code",
   "execution_count": null,
   "metadata": {},
   "outputs": [],
   "source": []
  },
  {
   "cell_type": "code",
   "execution_count": null,
   "metadata": {},
   "outputs": [],
   "source": []
  }
 ],
 "metadata": {
  "kernelspec": {
   "name": "python3",
   "display_name": "Python 3.7.8 64-bit ('tensor2': conda)"
  },
  "language_info": {
   "codemirror_mode": {
    "name": "ipython",
    "version": 3
   },
   "file_extension": ".py",
   "mimetype": "text/x-python",
   "name": "python",
   "nbconvert_exporter": "python",
   "pygments_lexer": "ipython3",
   "version": "3.7.8"
  },
  "interpreter": {
   "hash": "368cec5af9d55f3645ce893451bf6ff97de02598cc0bc19aa254d796841e01eb"
  }
 },
 "nbformat": 4,
 "nbformat_minor": 4
}